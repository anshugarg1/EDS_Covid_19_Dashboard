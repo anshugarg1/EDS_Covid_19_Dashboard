{
 "cells": [
  {
   "cell_type": "code",
   "execution_count": 1,
   "id": "91a65fd8-91e7-4d21-998f-d6104515bb30",
   "metadata": {},
   "outputs": [],
   "source": [
    "import subprocess\n",
    "import os\n",
    "\n",
    "import pandas as pd\n",
    "import numpy as np\n",
    "\n",
    "from datetime import datetime\n",
    "\n",
    "import requests\n",
    "import json"
   ]
  },
  {
   "cell_type": "code",
   "execution_count": 2,
   "id": "9f924bb8-9551-4ad2-89c6-e2155b416f48",
   "metadata": {},
   "outputs": [],
   "source": [
    "def get_johns_hopkins():\n",
    "    '''GEt full data from git pull request stored in csv file.'''\n",
    "    git_pull = subprocess.Popen( \"git pull\" ,\n",
    "                         cwd = os.path.dirname('../../data/raw/COVID-19/' ),\n",
    "                         shell = True,\n",
    "                         stdout = subprocess.PIPE,\n",
    "                         stderr = subprocess.PIPE )\n",
    "    (out, error) = git_pull.communicate()\n",
    "\n",
    "\n",
    "    print(\"Error : \" + str(error))\n",
    "    print(\"out : \" + str(out))"
   ]
  },
  {
   "cell_type": "code",
   "execution_count": 3,
   "id": "657199da-ee26-4424-a9f5-c87c4991dc5e",
   "metadata": {},
   "outputs": [],
   "source": [
    "def get_current_data_germany():\n",
    "    ''' Get current data from germany. FInal data frame is stored as pd.DataFrame\n",
    "    '''\n",
    "    # 16 states\n",
    "    #data=requests.get('https://services7.arcgis.com/mOBPykOjAyBO2ZKk/arcgis/rest/services/Coronaf%C3%A4lle_in_den_Bundesl%C3%A4ndern/FeatureServer/0/query?where=1%3D1&outFields=*&outSR=4326&f=json')\n",
    "\n",
    "    # 400 regions / Landkreise\n",
    "    data=requests.get('https://services7.arcgis.com/mOBPykOjAyBO2ZKk/arcgis/rest/services/RKI_Landkreisdaten/FeatureServer/0/query?where=1%3D1&outFields=*&outSR=4326&f=json')\n",
    "\n",
    "    json_object=json.loads(data.content)\n",
    "    full_list=[]\n",
    "    for pos,each_dict in enumerate (json_object['features'][:]):\n",
    "        full_list.append(each_dict['attributes'])\n",
    "\n",
    "    pd_full_list=pd.DataFrame(full_list)\n",
    "    pd_full_list.to_csv('../../data/raw/NPGEO/GER_state_data.csv',sep=';')\n",
    "    print(' Number of regions rows: '+str(pd_full_list.shape[0]))\n",
    "    print(type(pd_full_list))\n",
    "    print(pd_full_list.columns)"
   ]
  },
  {
   "cell_type": "code",
   "execution_count": 4,
   "id": "f3aded21-7cea-4ed9-9258-25493ec40e66",
   "metadata": {},
   "outputs": [
    {
     "name": "stdout",
     "output_type": "stream",
     "text": [
      "Error : b'From https://github.com/CSSEGISandData/COVID-19\\n   24587a0b6f..df7d576485  web-data   -> origin/web-data\\n'\n",
      "out : b'Already up to date.\\n'\n",
      " Number of regions rows: 411\n",
      "<class 'pandas.core.frame.DataFrame'>\n",
      "Index(['OBJECTID', 'ADE', 'GF', 'BSG', 'RS', 'AGS', 'SDV_RS', 'GEN', 'BEZ',\n",
      "       'IBZ', 'BEM', 'NBD', 'SN_L', 'SN_R', 'SN_K', 'SN_V1', 'SN_V2', 'SN_G',\n",
      "       'FK_S3', 'NUTS', 'RS_0', 'AGS_0', 'WSK', 'EWZ', 'KFL', 'DEBKG_ID',\n",
      "       'Shape__Area', 'Shape__Length', 'death_rate', 'cases', 'deaths',\n",
      "       'cases_per_100k', 'cases_per_population', 'BL', 'BL_ID', 'county',\n",
      "       'last_update', 'cases7_per_100k', 'recovered', 'EWZ_BL',\n",
      "       'cases7_bl_per_100k', 'cases7_bl', 'death7_bl', 'cases7_lk',\n",
      "       'death7_lk', 'cases7_per_100k_txt', 'AdmUnitId'],\n",
      "      dtype='object')\n"
     ]
    }
   ],
   "source": [
    "if __name__ == '__main__':\n",
    "    get_johns_hopkins()\n",
    "    get_current_data_germany()"
   ]
  },
  {
   "cell_type": "code",
   "execution_count": 31,
   "id": "b2d5785d-3f15-4188-8df0-23df2ab09026",
   "metadata": {},
   "outputs": [
    {
     "name": "stdout",
     "output_type": "stream",
     "text": [
      " Number of regions rows: 411\n",
      "<class 'pandas.core.frame.DataFrame'>\n",
      "Index(['OBJECTID', 'ADE', 'GF', 'BSG', 'RS', 'AGS', 'SDV_RS', 'GEN', 'BEZ',\n",
      "       'IBZ', 'BEM', 'NBD', 'SN_L', 'SN_R', 'SN_K', 'SN_V1', 'SN_V2', 'SN_G',\n",
      "       'FK_S3', 'NUTS', 'RS_0', 'AGS_0', 'WSK', 'EWZ', 'KFL', 'DEBKG_ID',\n",
      "       'Shape__Area', 'Shape__Length', 'death_rate', 'cases', 'deaths',\n",
      "       'cases_per_100k', 'cases_per_population', 'BL', 'BL_ID', 'county',\n",
      "       'last_update', 'cases7_per_100k', 'recovered', 'EWZ_BL',\n",
      "       'cases7_bl_per_100k', 'cases7_bl', 'death7_bl', 'cases7_lk',\n",
      "       'death7_lk', 'cases7_per_100k_txt', 'AdmUnitId'],\n",
      "      dtype='object')\n"
     ]
    }
   ],
   "source": []
  },
  {
   "cell_type": "code",
   "execution_count": 32,
   "id": "c8bf75f4-cd98-47cb-93f5-dc075ba8d512",
   "metadata": {},
   "outputs": [],
   "source": [
    "import pandas as pd\n",
    "import numpy as np\n",
    "\n",
    "from datetime import datetime"
   ]
  },
  {
   "cell_type": "code",
   "execution_count": 69,
   "id": "21c05a91-206d-4bb8-9c74-0167f4af5ea0",
   "metadata": {},
   "outputs": [],
   "source": [
    "def store_relational_JH_dataset():\n",
    "    ''' Transformes the COVID data into a relational data set.'''\n",
    "\n",
    "    data_path='../../data/raw/COVID-19/csse_covid_19_data/csse_covid_19_time_series/time_series_covid19_confirmed_global.csv'\n",
    "    pd_raw=pd.read_csv(data_path)\n",
    "\n",
    "    pd_data_base=pd_raw.rename(columns={'Country/Region':'country','Province/State':'state'})\n",
    "\n",
    "    pd_data_base['state']=pd_data_base['state'].fillna('no')\n",
    "\n",
    "    pd_data_base=pd_data_base.drop(['Lat','Long'],axis=1)\n",
    "    #print(pd_data_base.columns)\n",
    "    #print('-------------')\n",
    "    #print(pd_data_base.set_index(['state','country']).head(3))\n",
    "    #print('-------------')\n",
    "    #print(pd_data_base.set_index(['state','country']).T.head(3))\n",
    "    #print('-------------')\n",
    "    #print(pd_data_base.set_index(['state','country']).T.stack(level=[0,1]).head(30))\n",
    "    #print('-------------')\n",
    "    #print(pd_data_base.set_index(['state','country']).T.stack(level=[0,1]).reset_index().head(30))\n",
    "    #print('-------------')\n",
    "    \n",
    "    pd_relational_model=pd_data_base.set_index(['state','country']) \\\n",
    "                                .T                              \\\n",
    "                                .stack(level=[0,1])             \\\n",
    "                                .reset_index()                  \\\n",
    "                                .rename(columns={'level_0':'date',\n",
    "                                                   0:'confirmed'},\n",
    "                                                  )\n",
    "\n",
    "    pd_relational_model['date']=pd_relational_model.date.astype('datetime64[ns]')\n",
    "    print(pd_relational_model.columns)\n",
    "    print(pd_relational_model.head(10))\n",
    "    pd_relational_model.to_csv('../../data/processed/COVID_relational_confirmed.csv',sep=';',index=False)\n",
    "    print(' Number of rows stored: '+str(pd_relational_model.shape[0]))\n"
   ]
  },
  {
   "cell_type": "code",
   "execution_count": 70,
   "id": "af3d0f70-8b87-4dba-9870-c1782acce593",
   "metadata": {},
   "outputs": [
    {
     "name": "stdout",
     "output_type": "stream",
     "text": [
      "Index(['date', 'state', 'country', 'confirmed'], dtype='object')\n",
      "        date                             state         country  confirmed\n",
      "0 2020-01-22                           Alberta          Canada        0.0\n",
      "1 2020-01-22                          Anguilla  United Kingdom        0.0\n",
      "2 2020-01-22                             Anhui           China        1.0\n",
      "3 2020-01-22                             Aruba     Netherlands        0.0\n",
      "4 2020-01-22      Australian Capital Territory       Australia        0.0\n",
      "5 2020-01-22                           Beijing           China       14.0\n",
      "6 2020-01-22                           Bermuda  United Kingdom        0.0\n",
      "7 2020-01-22  Bonaire, Sint Eustatius and Saba     Netherlands        0.0\n",
      "8 2020-01-22                  British Columbia          Canada        0.0\n",
      "9 2020-01-22            British Virgin Islands  United Kingdom        0.0\n",
      " Number of rows stored: 261630\n"
     ]
    }
   ],
   "source": [
    "if __name__ == '__main__':\n",
    "\n",
    "    store_relational_JH_dataset()"
   ]
  },
  {
   "cell_type": "code",
   "execution_count": null,
   "id": "9a4b1be2-6576-49bc-982d-53b93232f96d",
   "metadata": {},
   "outputs": [],
   "source": []
  }
 ],
 "metadata": {
  "kernelspec": {
   "display_name": "Python 3 (ipykernel)",
   "language": "python",
   "name": "python3"
  },
  "language_info": {
   "codemirror_mode": {
    "name": "ipython",
    "version": 3
   },
   "file_extension": ".py",
   "mimetype": "text/x-python",
   "name": "python",
   "nbconvert_exporter": "python",
   "pygments_lexer": "ipython3",
   "version": "3.9.7"
  }
 },
 "nbformat": 4,
 "nbformat_minor": 5
}
