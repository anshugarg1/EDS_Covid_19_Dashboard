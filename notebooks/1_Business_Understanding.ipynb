{
 "cells": [
  {
   "cell_type": "markdown",
   "id": "b3c2cfd3-ca44-4c4e-b93d-dc8cbdecdcc2",
   "metadata": {},
   "source": [
    "<b>Business Understanding</b>"
   ]
  },
  {
   "cell_type": "markdown",
   "id": "d76dd033-6089-4d48-8ebe-9be961e0620e",
   "metadata": {},
   "source": [
    " <p>In first delivery, we would like to explore the spread of corona virus among population over the time for atleast three countries. Additionally, we would like to observe the vaccination rate among population over the time. <br>  Vaccination rate = (#Vaccinated people * 100) &divide Total Population size </p>\n",
    " "
   ]
  },
  {
   "cell_type": "markdown",
   "id": "d7551baa-c4ca-4405-acb9-3e83d6faedea",
   "metadata": {},
   "source": [
    "<b>Goals:</b> </br>\n",
    "1. Understand the data quality. </br>\n",
    "2. The whole pipeline should be automated as much as possible (defined by number of clicks required to run the pipeline)."
   ]
  },
  {
   "cell_type": "markdown",
   "id": "55bdd00a-fdf5-49c7-83ea-a7e1e8754c99",
   "metadata": {},
   "source": [
    "<b>Constraints:</b> </br>\n",
    "1. Each jupyter notebook should be clean and fully executed."
   ]
  },
  {
   "cell_type": "code",
   "execution_count": 13,
   "id": "d197261d-c8b7-4599-9291-360683d5fdad",
   "metadata": {},
   "outputs": [],
   "source": []
  },
  {
   "cell_type": "code",
   "execution_count": 14,
   "id": "1a3fb0da-a184-4bd4-a0e3-4b82d8108a95",
   "metadata": {},
   "outputs": [],
   "source": []
  },
  {
   "cell_type": "code",
   "execution_count": 15,
   "id": "28134c03-0cb0-41e2-be10-d959c008fbb1",
   "metadata": {},
   "outputs": [],
   "source": []
  },
  {
   "cell_type": "code",
   "execution_count": null,
   "id": "b2883f51-ef45-42fc-95d2-a20dca0618ca",
   "metadata": {},
   "outputs": [],
   "source": []
  },
  {
   "cell_type": "code",
   "execution_count": null,
   "id": "223f4b62-5ca8-4513-b929-6cf4462efe0a",
   "metadata": {},
   "outputs": [],
   "source": []
  },
  {
   "cell_type": "code",
   "execution_count": null,
   "id": "38eacfa7-0e87-4b38-848d-fcd79f312e79",
   "metadata": {},
   "outputs": [],
   "source": []
  }
 ],
 "metadata": {
  "kernelspec": {
   "display_name": "Python 3 (ipykernel)",
   "language": "python",
   "name": "python3"
  },
  "language_info": {
   "codemirror_mode": {
    "name": "ipython",
    "version": 3
   },
   "file_extension": ".py",
   "mimetype": "text/x-python",
   "name": "python",
   "nbconvert_exporter": "python",
   "pygments_lexer": "ipython3",
   "version": "3.9.7"
  }
 },
 "nbformat": 4,
 "nbformat_minor": 5
}
