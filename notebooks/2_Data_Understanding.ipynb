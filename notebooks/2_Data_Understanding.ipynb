{
 "cells": [
  {
   "cell_type": "markdown",
   "id": "ab5b1b1e-0c49-44d2-850f-04ffc3c5877f",
   "metadata": {},
   "source": [
    "<b>Data Understanding</b> </br> \n",
    "Firstly, figure out different data sources and decide which method should be used to access the data. Once data is available then understand the data's structure and information present in data. "
   ]
  },
  {
   "cell_type": "markdown",
   "id": "df7af245-0830-44db-99a7-4fc96eff1cbd",
   "metadata": {},
   "source": [
    "<b> 3 different appraches to access data: </b> </br>\n",
    "    1. Raw data: download data into csv file from some website for e.g., John Hopkins. </br>\n",
    "    2. Web Scrapping: Scrape data from webpages. </br>\n",
    "    3. Rest API: Call Rest API to access the data."
   ]
  },
  {
   "cell_type": "markdown",
   "id": "2b5c16f1-bb94-4b23-b36b-e2aa65e771b2",
   "metadata": {},
   "source": [
    "<b>First Approach:</b> Data is loaded from John Hopkins website. </br> TODO"
   ]
  },
  {
   "cell_type": "markdown",
   "id": "490c437f-2f00-499c-a036-93ea8fc07599",
   "metadata": {},
   "source": [
    "<b>Second Approach:</b> Data is scrapped from some website. </br> TODO"
   ]
  },
  {
   "cell_type": "markdown",
   "id": "7c72686f-4305-4c21-b670-82cd93909b93",
   "metadata": {},
   "source": [
    "<b>Third Approach: Using Rest API to access data.</b> </br> TODO"
   ]
  },
  {
   "cell_type": "code",
   "execution_count": 5,
   "id": "01314242-fe73-466f-9182-fd328c755db7",
   "metadata": {},
   "outputs": [],
   "source": [
    "# all libraries import \n",
    "\n",
    "import pandas as pd\n",
    "import requests\n",
    "import json"
   ]
  },
  {
   "cell_type": "code",
   "execution_count": 6,
   "id": "4855f536-756b-4680-97bd-c48871c0bdc2",
   "metadata": {},
   "outputs": [],
   "source": [
    "data = requests.get('https://services7.arcgis.com/mOBPykOjAyBO2ZKk/arcgis/rest/services/Coronafälle_in_den_Bundesländern/FeatureServer/0/query?where=1%3D1&outFields=*&outSR=4326&f=json')"
   ]
  },
  {
   "cell_type": "code",
   "execution_count": 7,
   "id": "c56b425c-ca7b-47f9-a456-9aabbfa0af97",
   "metadata": {},
   "outputs": [],
   "source": [
    "json_corona_data_obj = json.loads(data.content)"
   ]
  },
  {
   "cell_type": "code",
   "execution_count": null,
   "id": "b632935d-71a3-4223-9913-5e8aa76e358e",
   "metadata": {},
   "outputs": [],
   "source": [
    "json_corona_data_obj['features'][1]['attributes']"
   ]
  }
 ],
 "metadata": {
  "kernelspec": {
   "display_name": "Python 3 (ipykernel)",
   "language": "python",
   "name": "python3"
  },
  "language_info": {
   "codemirror_mode": {
    "name": "ipython",
    "version": 3
   },
   "file_extension": ".py",
   "mimetype": "text/x-python",
   "name": "python",
   "nbconvert_exporter": "python",
   "pygments_lexer": "ipython3",
   "version": "3.9.7"
  }
 },
 "nbformat": 4,
 "nbformat_minor": 5
}
